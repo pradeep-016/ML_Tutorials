{
  "nbformat": 4,
  "nbformat_minor": 0,
  "metadata": {
    "colab": {
      "provenance": [],
      "authorship_tag": "ABX9TyMsKbJXBgOa1ubnbI4Id45/",
      "include_colab_link": true
    },
    "kernelspec": {
      "name": "python3",
      "display_name": "Python 3"
    },
    "language_info": {
      "name": "python"
    }
  },
  "cells": [
    {
      "cell_type": "markdown",
      "metadata": {
        "id": "view-in-github",
        "colab_type": "text"
      },
      "source": [
        "<a href=\"https://colab.research.google.com/github/pradeep-016/ML_Tutorials/blob/main/Data_Preprocessing.ipynb\" target=\"_parent\"><img src=\"https://colab.research.google.com/assets/colab-badge.svg\" alt=\"Open In Colab\"/></a>"
      ]
    },
    {
      "cell_type": "markdown",
      "source": [
        "[![Open In Colab](https://colab.research.google.com/assets/colab-badge.svg)](https://colab.research.google.com/drive/1NMyxq98icHcrwMPxtMgaTaoNrJv_AThu?usp=sharing)\n"
      ],
      "metadata": {
        "id": "e7hmN2_J4LY2"
      }
    },
    {
      "cell_type": "markdown",
      "source": [
        "###Import the following packages\n",
        "1. `Numpy`\n",
        "2. `Pandas`\n",
        "3. `Matplotlib`\n",
        "4. `seaborn`\n",
        "5. `datetime`"
      ],
      "metadata": {
        "id": "g6d9dLYtzuIc"
      }
    },
    {
      "cell_type": "markdown",
      "source": [
        "`import datetime as dt`"
      ],
      "metadata": {
        "id": "S2KsWkzY3OXr"
      }
    },
    {
      "cell_type": "code",
      "execution_count": null,
      "metadata": {
        "id": "X0KsWjx_f4SC"
      },
      "outputs": [],
      "source": [
        "#import the libraries here\n"
      ]
    },
    {
      "cell_type": "markdown",
      "source": [
        "###Upload the Dataset in Colab and Read load it in DataFrame"
      ],
      "metadata": {
        "id": "-tEiDGAy0bsa"
      }
    },
    {
      "cell_type": "code",
      "source": [
        "#create 'df' dataframe here\n"
      ],
      "metadata": {
        "id": "Tgjf52QYgEME"
      },
      "execution_count": null,
      "outputs": []
    },
    {
      "cell_type": "markdown",
      "source": [
        "###Display the First 10 Rows"
      ],
      "metadata": {
        "id": "Bamhi6kI0wCq"
      }
    },
    {
      "cell_type": "code",
      "source": [
        "#Write the code to display first 10 Rows\n"
      ],
      "metadata": {
        "id": "8bWTHR6YgKm9"
      },
      "execution_count": null,
      "outputs": []
    },
    {
      "cell_type": "markdown",
      "source": [
        "###Display the infomation of the dataset"
      ],
      "metadata": {
        "id": "Sqm8NxXS08HH"
      }
    },
    {
      "cell_type": "code",
      "source": [
        "#display the info of the dataset\n"
      ],
      "metadata": {
        "id": "kh0zlJXCgRuI"
      },
      "execution_count": null,
      "outputs": []
    },
    {
      "cell_type": "markdown",
      "source": [
        "###Display the statistics of the data using describe"
      ],
      "metadata": {
        "id": "QdnI3qfH1Mx-"
      }
    },
    {
      "cell_type": "code",
      "source": [
        "#describe the data\n"
      ],
      "metadata": {
        "id": "gBJnlei7gXxe"
      },
      "execution_count": null,
      "outputs": []
    },
    {
      "cell_type": "markdown",
      "source": [
        "###Run the following code to convert the string datatype into date"
      ],
      "metadata": {
        "id": "9CG-0KK51Znw"
      }
    },
    {
      "cell_type": "code",
      "source": [
        "df[\"Date Joined\"] = pd.to_datetime(df[\"Date Joined\"])"
      ],
      "metadata": {
        "id": "q-EZYPo_gdK8"
      },
      "execution_count": null,
      "outputs": []
    },
    {
      "cell_type": "markdown",
      "source": [
        "###Check the datatype of Date Joined"
      ],
      "metadata": {
        "id": "dg5RWj061mKV"
      }
    },
    {
      "cell_type": "code",
      "source": [
        "#use info()\n"
      ],
      "metadata": {
        "id": "Gyy3_GYBg3DJ"
      },
      "execution_count": null,
      "outputs": []
    },
    {
      "cell_type": "markdown",
      "source": [
        "###Now Extract the Year From the date by running the following code"
      ],
      "metadata": {
        "id": "auWJR_oe1w4f"
      }
    },
    {
      "cell_type": "code",
      "source": [
        "df[\"Year Joined\"] = df[\"Date Joined\"].dt.year"
      ],
      "metadata": {
        "id": "OqhYkCu0g6vG"
      },
      "execution_count": null,
      "outputs": []
    },
    {
      "cell_type": "markdown",
      "source": [
        "###Now Display the First 5 Sample of data"
      ],
      "metadata": {
        "id": "hRxg-S171-ET"
      }
    },
    {
      "cell_type": "code",
      "source": [
        "#write the code here for display the first 5 rows\n"
      ],
      "metadata": {
        "id": "XVEB13KKg-9s"
      },
      "execution_count": null,
      "outputs": []
    },
    {
      "cell_type": "markdown",
      "source": [
        "### Check remove the duplicate rows by using `drop_duplicates()`"
      ],
      "metadata": {
        "id": "5t6YvazW2SwE"
      }
    },
    {
      "cell_type": "code",
      "source": [
        "#use the method for the dataframe\n"
      ],
      "metadata": {
        "id": "ZINGvcBVknII"
      },
      "execution_count": null,
      "outputs": []
    },
    {
      "cell_type": "markdown",
      "source": [
        "### Now Fill the Missing Values in the Dataset using `fillna()` Method"
      ],
      "metadata": {
        "id": "IES3g5Xl2sVK"
      }
    },
    {
      "cell_type": "code",
      "source": [
        "df.fillna(df['city'].median())"
      ],
      "metadata": {
        "id": "93c_nKpasXJY"
      },
      "execution_count": null,
      "outputs": []
    },
    {
      "cell_type": "code",
      "source": [],
      "metadata": {
        "id": "Zb-gdu4h4bUk"
      },
      "execution_count": null,
      "outputs": []
    }
  ]
}